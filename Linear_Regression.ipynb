{
  "nbformat": 4,
  "nbformat_minor": 0,
  "metadata": {
    "colab": {
      "name": "Linear-Regression.ipynb",
      "provenance": [],
      "authorship_tag": "ABX9TyO7c9Ys/PD6v8pQVorCF1q4",
      "include_colab_link": true
    },
    "kernelspec": {
      "name": "python3",
      "display_name": "Python 3"
    }
  },
  "cells": [
    {
      "cell_type": "markdown",
      "metadata": {
        "id": "view-in-github",
        "colab_type": "text"
      },
      "source": [
        "<a href=\"https://colab.research.google.com/github/Satishap/deep_Leaning_with_pytorch/blob/main/Linear_Regression.ipynb\" target=\"_parent\"><img src=\"https://colab.research.google.com/assets/colab-badge.svg\" alt=\"Open In Colab\"/></a>"
      ]
    },
    {
      "cell_type": "code",
      "metadata": {
        "id": "4HAAwyLc7TmF"
      },
      "source": [
        "import numpy as np\n",
        "import torch"
      ],
      "execution_count": 1,
      "outputs": []
    },
    {
      "cell_type": "code",
      "metadata": {
        "id": "Sw9ulzj07dux"
      },
      "source": [
        "# Input (temp, rainfall, humidity)\n",
        "inputs = np.array([[73, 67, 43], \n",
        "                   [91, 88, 64], \n",
        "                   [87, 134, 58], \n",
        "                   [102, 43, 37], \n",
        "                   [69, 96, 70]], dtype='float32')"
      ],
      "execution_count": 2,
      "outputs": []
    },
    {
      "cell_type": "code",
      "metadata": {
        "id": "vFPS-dMq7kYW"
      },
      "source": [
        "# Targets (apples, oranges)\n",
        "targets = np.array([[56, 70], \n",
        "                    [81, 101], \n",
        "                    [119, 133], \n",
        "                    [22, 37], \n",
        "                    [103, 119]], dtype='float32')\n"
      ],
      "execution_count": 3,
      "outputs": []
    },
    {
      "cell_type": "code",
      "metadata": {
        "colab": {
          "base_uri": "https://localhost:8080/"
        },
        "id": "t6Ce04Sn7lKg",
        "outputId": "5f7d3064-27c3-4917-8906-5d87b43bbd37"
      },
      "source": [
        "inputs = torch.from_numpy(inputs)\n",
        "targets = torch.from_numpy(targets)\n",
        "print(inputs)\n",
        "print(targets)"
      ],
      "execution_count": 4,
      "outputs": [
        {
          "output_type": "stream",
          "text": [
            "tensor([[ 73.,  67.,  43.],\n",
            "        [ 91.,  88.,  64.],\n",
            "        [ 87., 134.,  58.],\n",
            "        [102.,  43.,  37.],\n",
            "        [ 69.,  96.,  70.]])\n",
            "tensor([[ 56.,  70.],\n",
            "        [ 81., 101.],\n",
            "        [119., 133.],\n",
            "        [ 22.,  37.],\n",
            "        [103., 119.]])\n"
          ],
          "name": "stdout"
        }
      ]
    },
    {
      "cell_type": "code",
      "metadata": {
        "colab": {
          "base_uri": "https://localhost:8080/"
        },
        "id": "nQW0z2xB7nVU",
        "outputId": "101082c4-0e6f-42f8-b717-c2f16facdfa8"
      },
      "source": [
        "#matrix\n",
        "w = torch.randn(2, 3, requires_grad=True)\n",
        "b = torch.randn(2, requires_grad=True)\n",
        "print(w)\n",
        "print(b)"
      ],
      "execution_count": 5,
      "outputs": [
        {
          "output_type": "stream",
          "text": [
            "tensor([[ 0.4773, -1.3134,  0.2894],\n",
            "        [ 0.7442,  1.6709,  0.1003]], requires_grad=True)\n",
            "tensor([-1.3977,  0.1850], requires_grad=True)\n"
          ],
          "name": "stdout"
        }
      ]
    },
    {
      "cell_type": "code",
      "metadata": {
        "id": "1FZrHLUEAxmh"
      },
      "source": [
        "#Train DataModel"
      ],
      "execution_count": 19,
      "outputs": []
    },
    {
      "cell_type": "code",
      "metadata": {
        "id": "m4fOh0Ty7phn"
      },
      "source": [
        "def model(x):\n",
        "  return x @ w.t() + b\n",
        "  "
      ],
      "execution_count": 8,
      "outputs": []
    },
    {
      "cell_type": "code",
      "metadata": {
        "colab": {
          "base_uri": "https://localhost:8080/"
        },
        "id": "7ESEFxpl74cj",
        "outputId": "635c1269-c4e2-4001-b937-79e5682082c6"
      },
      "source": [
        "preds=model(inputs)\n",
        "print(preds)"
      ],
      "execution_count": 9,
      "outputs": [
        {
          "output_type": "stream",
          "text": [
            "tensor([[ -42.1065,  170.7705],\n",
            "        [ -55.0183,  221.3603],\n",
            "        [-119.0786,  294.6420],\n",
            "        [   1.5186,  151.6480],\n",
            "        [ -74.2887,  218.9579]], grad_fn=<AddBackward0>)\n"
          ],
          "name": "stdout"
        }
      ]
    },
    {
      "cell_type": "code",
      "metadata": {
        "colab": {
          "base_uri": "https://localhost:8080/"
        },
        "id": "PXNGNNR678gZ",
        "outputId": "f4b6a3b5-dcb8-4dc9-9709-2794fc5f09ef"
      },
      "source": [
        "#Compare with Targets\n",
        "print(targets)"
      ],
      "execution_count": 12,
      "outputs": [
        {
          "output_type": "stream",
          "text": [
            "tensor([[ 56.,  70.],\n",
            "        [ 81., 101.],\n",
            "        [119., 133.],\n",
            "        [ 22.,  37.],\n",
            "        [103., 119.]])\n"
          ],
          "name": "stdout"
        }
      ]
    },
    {
      "cell_type": "code",
      "metadata": {
        "id": "4jcWMhaF8IXL"
      },
      "source": [
        "#MSE LOSS\n",
        "def mse(t1,t2):\n",
        "  diff=t1-t2\n",
        "  return torch.sum(diff * diff) / diff.numel()"
      ],
      "execution_count": 13,
      "outputs": []
    },
    {
      "cell_type": "code",
      "metadata": {
        "colab": {
          "base_uri": "https://localhost:8080/"
        },
        "id": "imSxe_an80pe",
        "outputId": "42d5c1df-f05f-499f-dfc0-c5da25bb5adc"
      },
      "source": [
        "#Compute Loss\n",
        "loss=mse(preds, targets)\n",
        "print(loss)"
      ],
      "execution_count": 14,
      "outputs": [
        {
          "output_type": "stream",
          "text": [
            "tensor(19056.3223, grad_fn=<DivBackward0>)\n"
          ],
          "name": "stdout"
        }
      ]
    },
    {
      "cell_type": "code",
      "metadata": {
        "id": "f5lYvxDK9Cxm"
      },
      "source": [
        "#Compute Gradient\n",
        "loss.backward()"
      ],
      "execution_count": 15,
      "outputs": []
    },
    {
      "cell_type": "code",
      "metadata": {
        "colab": {
          "base_uri": "https://localhost:8080/"
        },
        "id": "8yLn3Lgy-uU1",
        "outputId": "54aeefb4-131f-4777-d401-5874a753a374"
      },
      "source": [
        "print(b)\n",
        "print(b.grad)"
      ],
      "execution_count": 17,
      "outputs": [
        {
          "output_type": "stream",
          "text": [
            "tensor([-1.3977,  0.1850], requires_grad=True)\n",
            "tensor([-133.9947,  119.4757])\n"
          ],
          "name": "stdout"
        }
      ]
    },
    {
      "cell_type": "code",
      "metadata": {
        "colab": {
          "base_uri": "https://localhost:8080/"
        },
        "id": "ftMk91to98MK",
        "outputId": "d8e0ee04-926a-4d8b-aea6-8cfff55dc8e5"
      },
      "source": [
        "# Gradients for weights\n",
        "print(w)\n",
        "print(w.grad)"
      ],
      "execution_count": 16,
      "outputs": [
        {
          "output_type": "stream",
          "text": [
            "tensor([[ 0.4773, -1.3134,  0.2894],\n",
            "        [ 0.7442,  1.6709,  0.1003]], requires_grad=True)\n",
            "tensor([[-10914.8594, -13669.1387,  -7980.0664],\n",
            "        [ 10192.6152,  10705.8359,   6530.0913]])\n"
          ],
          "name": "stdout"
        }
      ]
    },
    {
      "cell_type": "code",
      "metadata": {
        "colab": {
          "base_uri": "https://localhost:8080/"
        },
        "id": "1IDYkemn-AMP",
        "outputId": "6e06f117-1a45-41f9-962a-e06b7640d3e8"
      },
      "source": [
        "w.grad.zero_()\n",
        "b.grad.zero_()\n",
        "print(w.grad)\n",
        "print(b.grad)"
      ],
      "execution_count": 22,
      "outputs": [
        {
          "output_type": "stream",
          "text": [
            "tensor([[0., 0., 0.],\n",
            "        [0., 0., 0.]])\n",
            "tensor([0., 0.])\n"
          ],
          "name": "stdout"
        }
      ]
    },
    {
      "cell_type": "code",
      "metadata": {
        "colab": {
          "base_uri": "https://localhost:8080/"
        },
        "id": "BMrzvJ4JB9N_",
        "outputId": "586ae554-8a35-4a53-c9ea-9c3ec851a6d0"
      },
      "source": [
        "preds=model(inputs)\n",
        "print(preds)"
      ],
      "execution_count": 24,
      "outputs": [
        {
          "output_type": "stream",
          "text": [
            "tensor([[ -42.1065,  170.7705],\n",
            "        [ -55.0183,  221.3603],\n",
            "        [-119.0786,  294.6420],\n",
            "        [   1.5186,  151.6480],\n",
            "        [ -74.2887,  218.9579]], grad_fn=<AddBackward0>)\n"
          ],
          "name": "stdout"
        }
      ]
    },
    {
      "cell_type": "code",
      "metadata": {
        "colab": {
          "base_uri": "https://localhost:8080/"
        },
        "id": "Yb_20kd-CCxt",
        "outputId": "062f3112-80b9-4619-cdb5-a8fc808095b7"
      },
      "source": [
        "loss=mse(preds,targets)\n",
        "loss"
      ],
      "execution_count": 26,
      "outputs": [
        {
          "output_type": "execute_result",
          "data": {
            "text/plain": [
              "tensor(19056.3223, grad_fn=<DivBackward0>)"
            ]
          },
          "metadata": {
            "tags": []
          },
          "execution_count": 26
        }
      ]
    },
    {
      "cell_type": "code",
      "metadata": {
        "colab": {
          "base_uri": "https://localhost:8080/"
        },
        "id": "5OXYVCyMCHU9",
        "outputId": "014f569e-82a4-4bef-b3b2-6bea7ad9d817"
      },
      "source": [
        "loss.backward()\n",
        "print(w.grad)\n",
        "print(b.grad)"
      ],
      "execution_count": 27,
      "outputs": [
        {
          "output_type": "stream",
          "text": [
            "tensor([[-10914.8594, -13669.1387,  -7980.0664],\n",
            "        [ 10192.6152,  10705.8359,   6530.0913]])\n",
            "tensor([-133.9947,  119.4757])\n"
          ],
          "name": "stdout"
        }
      ]
    },
    {
      "cell_type": "code",
      "metadata": {
        "id": "y7wi-y8JCQUZ"
      },
      "source": [
        "#Adjust Weights And Reset Gradient\n",
        "with  torch.no_grad():\n",
        "  w-=w.grad*1e-5\n",
        "  b-=b.grad*1e-5\n",
        "  w.grad.zero_()\n",
        "  b.grad.zero_()"
      ],
      "execution_count": 32,
      "outputs": []
    },
    {
      "cell_type": "code",
      "metadata": {
        "colab": {
          "base_uri": "https://localhost:8080/"
        },
        "id": "ajLsPCVJFWGH",
        "outputId": "dc1050de-fd0e-4703-a4b4-7760d36870c5"
      },
      "source": [
        "print(w)\n",
        "print(b)"
      ],
      "execution_count": 33,
      "outputs": [
        {
          "output_type": "stream",
          "text": [
            "tensor([[ 0.6956, -1.0400,  0.4490],\n",
            "        [ 0.5403,  1.4568, -0.0303]], requires_grad=True)\n",
            "tensor([-1.3950,  0.1826], requires_grad=True)\n"
          ],
          "name": "stdout"
        }
      ]
    },
    {
      "cell_type": "code",
      "metadata": {
        "colab": {
          "base_uri": "https://localhost:8080/"
        },
        "id": "JxDT6qwWFdI9",
        "outputId": "263c15cd-72b1-4eaf-8c52-666291d07b81"
      },
      "source": [
        "# Calculate loss\n",
        "preds = model(inputs)\n",
        "loss = mse(preds, targets)\n",
        "print(loss)"
      ],
      "execution_count": 36,
      "outputs": [
        {
          "output_type": "stream",
          "text": [
            "tensor(8692.8789, grad_fn=<DivBackward0>)\n"
          ],
          "name": "stdout"
        }
      ]
    },
    {
      "cell_type": "code",
      "metadata": {
        "id": "3a2mgqlBGg8v"
      },
      "source": [
        "#Train For Multiple epochs\n",
        "for i in range(100):\n",
        "  preds=model(inputs)\n",
        "  loss=mse(preds, targets)\n",
        "  loss.backward()\n",
        "  with torch.no_grad():\n",
        "    w-=w.grad*1e-5\n",
        "    b-=b.grad*1e-5\n",
        "    w.grad.zero_()\n",
        "    b.grad.zero_()"
      ],
      "execution_count": 47,
      "outputs": []
    },
    {
      "cell_type": "code",
      "metadata": {
        "colab": {
          "base_uri": "https://localhost:8080/"
        },
        "id": "D_l2iid9HfII",
        "outputId": "1ceef9d3-1416-4034-d337-5605455c8c4e"
      },
      "source": [
        "preds=model(inputs)\n",
        "loss=mse(preds,targets)\n",
        "print(loss)"
      ],
      "execution_count": 48,
      "outputs": [
        {
          "output_type": "stream",
          "text": [
            "tensor(162.4745, grad_fn=<DivBackward0>)\n"
          ],
          "name": "stdout"
        }
      ]
    },
    {
      "cell_type": "code",
      "metadata": {
        "colab": {
          "base_uri": "https://localhost:8080/"
        },
        "id": "2mr3-aJqHy_R",
        "outputId": "b15551e4-af49-4d00-c52d-6c3c222a57dc"
      },
      "source": [
        "preds"
      ],
      "execution_count": 49,
      "outputs": [
        {
          "output_type": "execute_result",
          "data": {
            "text/plain": [
              "tensor([[ 61.3573,  71.8076],\n",
              "        [ 87.0959,  93.9184],\n",
              "        [100.8301, 145.9054],\n",
              "        [ 47.0109,  44.7702],\n",
              "        [ 95.0190, 102.9016]], grad_fn=<AddBackward0>)"
            ]
          },
          "metadata": {
            "tags": []
          },
          "execution_count": 49
        }
      ]
    },
    {
      "cell_type": "code",
      "metadata": {
        "colab": {
          "base_uri": "https://localhost:8080/"
        },
        "id": "y2m54FNzH0EK",
        "outputId": "01edb4ce-5622-4c05-b44e-dec7fbee5e5e"
      },
      "source": [
        "targets"
      ],
      "execution_count": 50,
      "outputs": [
        {
          "output_type": "execute_result",
          "data": {
            "text/plain": [
              "tensor([[ 56.,  70.],\n",
              "        [ 81., 101.],\n",
              "        [119., 133.],\n",
              "        [ 22.,  37.],\n",
              "        [103., 119.]])"
            ]
          },
          "metadata": {
            "tags": []
          },
          "execution_count": 50
        }
      ]
    },
    {
      "cell_type": "code",
      "metadata": {
        "id": "lcYYRRtXH0vg"
      },
      "source": [
        ""
      ],
      "execution_count": null,
      "outputs": []
    }
  ]
}